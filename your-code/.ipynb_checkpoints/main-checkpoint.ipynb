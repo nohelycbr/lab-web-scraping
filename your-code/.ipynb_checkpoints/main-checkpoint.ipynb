{
 "cells": [
  {
   "cell_type": "markdown",
   "metadata": {},
   "source": [
    "# Web Scraping Lab\n",
    "\n",
    "You will find in this notebook some scrapy exercises to practise your scraping skills.\n",
    "\n",
    "**Tips:**\n",
    "\n",
    "- Check the response status code for each request to ensure you have obtained the intended contennt.\n",
    "- Print the response text in each request to understand the kind of info you are getting and its format.\n",
    "- Check for patterns in the response text to extract the data/info requested in each question.\n",
    "- Visit each url and take a look at its source through Chrome DevTools. You'll need to identify the html tags, special class names etc. used for the html content you are expected to extract."
   ]
  },
  {
   "cell_type": "markdown",
   "metadata": {},
   "source": [
    "- [Requests library](http://docs.python-requests.org/en/master/#the-user-guide) documentation \n",
    "- [Beautiful Soup Doc](https://www.crummy.com/software/BeautifulSoup/bs4/doc/)\n",
    "- [Urllib](https://docs.python.org/3/library/urllib.html#module-urllib)\n",
    "- [re lib](https://docs.python.org/3/library/re.html)\n",
    "- [lxml lib](https://lxml.de/)\n",
    "- [Scrapy](https://scrapy.org/)\n",
    "- [List of HTTP status codes](https://en.wikipedia.org/wiki/List_of_HTTP_status_codes)\n",
    "- [HTML basics](http://www.simplehtmlguide.com/cheatsheet.php)\n",
    "- [CSS basics](https://www.cssbasics.com/#page_start)"
   ]
  },
  {
   "cell_type": "markdown",
   "metadata": {},
   "source": [
    "#### Below are the libraries and modules you may need. `requests`,  `BeautifulSoup` and `pandas` are imported for you. If you prefer to use additional libraries feel free to uncomment them."
   ]
  },
  {
   "cell_type": "code",
   "execution_count": 7,
   "metadata": {},
   "outputs": [],
   "source": [
    "import requests\n",
    "from bs4 import BeautifulSoup\n",
    "import pandas as pd\n",
    "# from pprint import pprint\n",
    "# from lxml import html\n",
    "# from lxml.html import fromstring\n",
    "# import urllib.request\n",
    "# from urllib.request import urlopen\n",
    "# import random\n",
    "import re\n",
    "# import scrapy"
   ]
  },
  {
   "cell_type": "markdown",
   "metadata": {},
   "source": [
    "#### Download, parse (using BeautifulSoup), and print the content from the Trending Developers page from GitHub:"
   ]
  },
  {
   "cell_type": "code",
   "execution_count": 2,
   "metadata": {},
   "outputs": [],
   "source": [
    "# This is the url you will scrape in this exercise\n",
    "url = 'https://github.com/trending/developers'"
   ]
  },
  {
   "cell_type": "code",
   "execution_count": 4,
   "metadata": {},
   "outputs": [
    {
     "name": "stdout",
     "output_type": "stream",
     "text": [
      "['Felix Angelov (felangel)', 'Michiel Borkent (borkdude)', 'Ran Luo (Jocs)', 'Juan Picado @jotadeveloper (juanpicado)', 'Milos Kozak (MilosKozak)', 'Tomoki Hayashi (kan-bayashi)', 'Vadim Dalecky (streamich)', 'Aleksey Kladov (matklad)', 'Bud Parr (budparr)', 'Otto Winter (OttoWinter)', 'Jess Telford (jesstelford)', 'Louis Pilfold (lpil)', 'Unknwon (unknwon)', 'Mr.doob (mrdoob)', 'Tim Pope (tpope)', 'Simen Bekkhus (SimenB)', 'Jesse Duffield (jesseduffield)', 'Arvid Norberg (arvidn)', 'Ian Storm Taylor (ianstormtaylor)', 'Sergey Zhuk (seregazhuk)', 'René Dudfield (illume)', 'Kabir Baidhya (kabirbaidhya)', 'Josh Johnson (jshjohnson)', 'John A. De Goes (jdegoes)', 'Kishikawa Katsumi (kishikawakatsumi)']\n"
     ]
    }
   ],
   "source": [
    "#your code\n",
    "html = requests.get(url).content\n",
    "soup = BeautifulSoup(html,features=\"html.parser\")\n",
    "\n",
    "developers_name = soup.find_all('h1',\"h3 lh-condensed\")\n",
    "\n",
    "developers_names = []\n",
    "for name in developers_name:\n",
    "    nombre = name.text\n",
    "    developers_names.append(nombre.strip())\n",
    "developers_names = list(map(lambda x:x,developers_names))\n",
    "\n",
    "developer_user = soup.find_all('p', class_= 'f4 text-normal mb-1')\n",
    "\n",
    "developer_users = []\n",
    "for user in developer_user:\n",
    "    users = user.text\n",
    "    developer_users.append(users.strip())\n",
    "developer_users = list(map(lambda x:x,developer_users))\n",
    "\n",
    "lista = [f'{nameUser} ({User})' for nameUser, User in list(zip(developers_names,developer_users))]\n",
    "\n"
   ]
  },
  {
   "cell_type": "markdown",
   "metadata": {},
   "source": [
    "#### Display the names of the trending developers retrieved in the previous step.\n",
    "\n",
    "Your output should be a Python list of developer names. Each name should not contain any html tag.\n",
    "\n",
    "**Instructions:**\n",
    "\n",
    "1. Find out the html tag and class names used for the developer names. You can achieve this using Chrome DevTools.\n",
    "\n",
    "1. Use BeautifulSoup to extract all the html elements that contain the developer names.\n",
    "\n",
    "1. Use string manipulation techniques to replace whitespaces and linebreaks (i.e. `\\n`) in the *text* of each html element. Use a list to store the clean names.\n",
    "\n",
    "1. Print the list of names.\n",
    "\n",
    "Your output should look like below:\n",
    "\n",
    "```\n",
    "['trimstray (@trimstray)',\n",
    " 'joewalnes (JoeWalnes)',\n",
    " 'charlax (Charles-AxelDein)',\n",
    " 'ForrestKnight (ForrestKnight)',\n",
    " 'revery-ui (revery-ui)',\n",
    " 'alibaba (Alibaba)',\n",
    " 'Microsoft (Microsoft)',\n",
    " 'github (GitHub)',\n",
    " 'facebook (Facebook)',\n",
    " 'boazsegev (Bo)',\n",
    " 'google (Google)',\n",
    " 'cloudfetch',\n",
    " 'sindresorhus (SindreSorhus)',\n",
    " 'tensorflow',\n",
    " 'apache (TheApacheSoftwareFoundation)',\n",
    " 'DevonCrawford (DevonCrawford)',\n",
    " 'ARMmbed (ArmMbed)',\n",
    " 'vuejs (vuejs)',\n",
    " 'fastai (fast.ai)',\n",
    " 'QiShaoXuan (Qi)',\n",
    " 'joelparkerhenderson (JoelParkerHenderson)',\n",
    " 'torvalds (LinusTorvalds)',\n",
    " 'CyC2018',\n",
    " 'komeiji-satori (神楽坂覚々)',\n",
    " 'script-8']\n",
    " ```"
   ]
  },
  {
   "cell_type": "code",
   "execution_count": 5,
   "metadata": {},
   "outputs": [
    {
     "name": "stdout",
     "output_type": "stream",
     "text": [
      "['Felix Angelov (felangel)', 'Michiel Borkent (borkdude)', 'Ran Luo (Jocs)', 'Juan Picado @jotadeveloper (juanpicado)', 'Milos Kozak (MilosKozak)', 'Tomoki Hayashi (kan-bayashi)', 'Vadim Dalecky (streamich)', 'Aleksey Kladov (matklad)', 'Bud Parr (budparr)', 'Otto Winter (OttoWinter)', 'Jess Telford (jesstelford)', 'Louis Pilfold (lpil)', 'Unknwon (unknwon)', 'Mr.doob (mrdoob)', 'Tim Pope (tpope)', 'Simen Bekkhus (SimenB)', 'Jesse Duffield (jesseduffield)', 'Arvid Norberg (arvidn)', 'Ian Storm Taylor (ianstormtaylor)', 'Sergey Zhuk (seregazhuk)', 'René Dudfield (illume)', 'Kabir Baidhya (kabirbaidhya)', 'Josh Johnson (jshjohnson)', 'John A. De Goes (jdegoes)', 'Kishikawa Katsumi (kishikawakatsumi)']\n"
     ]
    }
   ],
   "source": [
    "#your code\n",
    "print(lista)"
   ]
  },
  {
   "cell_type": "markdown",
   "metadata": {},
   "source": [
    "#### Display the trending Python repositories in GitHub\n",
    "\n",
    "The steps to solve this problem is similar to the previous one except that you need to find out the repository names instead of developer names."
   ]
  },
  {
   "cell_type": "code",
   "execution_count": 8,
   "metadata": {},
   "outputs": [],
   "source": [
    "# This is the url you will scrape in this exercise\n",
    "import re\n",
    "url = 'https://github.com/trending/python?since=daily'"
   ]
  },
  {
   "cell_type": "code",
   "execution_count": 9,
   "metadata": {},
   "outputs": [
    {
     "name": "stdout",
     "output_type": "stream",
     "text": [
      "{'cvlab-stonybrook/DewarpNet Python', 'bitcoinbook/bitcoinbook Python', 'pi-hole/docker-pi-hole Python', 'home-assistant/home-assistant Python', 'wb14123/seq2seq-couplet Python', 'evilsocket/pwnagotchi Python', 'Yorko/mlcourse.ai Python', 'google-research/google-research Python', '3b1b/manim Python', 'wangzheng0822/algo Python', 'donnemartin/system-design-primer Python', 'ageitgey/face_recognition Python', 'DrDonk/unlocker Python', 'instaloader/instaloader Python', 'kovidgoyal/kitty Python', 'axi0mX/ipwndfu Python', 'IgnoredAmbience/yahoo-group-archiver Python', 'geekcomputers/Python Python', 'ytdl-org/youtube-dl Python', 'deepfakes/faceswap Python', 'openai/baselines Python', '0Kee-Team/WatchAD Python', 'google-research/bert Python', 'scikit-learn/scikit-learn Python'}\n"
     ]
    }
   ],
   "source": [
    "#your code\n",
    "html = requests.get(url).content\n",
    "soup = BeautifulSoup(html,features=\"html.parser\")\n",
    "\n",
    "repos = soup.find_all(class_='h3 lh-condensed')\n",
    "\n",
    "repos_names = []\n",
    "repo=''\n",
    "for name in repos:\n",
    "    nombre = name.text\n",
    "    nombre = re.findall(\"\\S+\",nombre)\n",
    "    for i in nombre:\n",
    "        repo = repo+i\n",
    "    repos_names.append(repo)\n",
    "    repo=''\n",
    "\n",
    "repos_names = list(map(lambda x:x,repos_names))\n",
    "\n",
    "type_file = soup.find_all(class_='d-inline-block ml-0 mr-3')\n",
    "\n",
    "type_files = []\n",
    "type =''\n",
    "for name in type_file:\n",
    "    nombre = name.text\n",
    "    nombre = re.findall(\"\\S+\", nombre)\n",
    "    for i in nombre:\n",
    "        type = type+\" \"+i\n",
    "\n",
    "    type_files.append(type.strip())\n",
    "    type =''\n",
    "\n",
    "type_files = list(map(lambda x:x,type_files))\n",
    "\n",
    "lista = {repo:type for repo, type in list(zip(repos_names,type_files))}\n",
    "\n",
    "repos_Python = {repoName+\" \"+file for repoName,file in lista.items() if file == 'Python'}\n",
    "\n",
    "print(repos_Python)"
   ]
  },
  {
   "cell_type": "markdown",
   "metadata": {},
   "source": [
    "#### Display all the image links from Walt Disney wikipedia page"
   ]
  },
  {
   "cell_type": "code",
   "execution_count": 10,
   "metadata": {},
   "outputs": [],
   "source": [
    "# This is the url you will scrape in this exercise\n",
    "url = 'https://en.wikipedia.org/wiki/Walt_Disney'"
   ]
  },
  {
   "cell_type": "code",
   "execution_count": 11,
   "metadata": {},
   "outputs": [
    {
     "name": "stdout",
     "output_type": "stream",
     "text": [
      "['//upload.wikimedia.org/wikipedia/en/thumb/e/e7/Cscr-featured.svg/20px-Cscr-featured.svg.png', '//upload.wikimedia.org/wikipedia/en/thumb/1/1b/Semi-protection-shackle.svg/20px-Semi-protection-shackle.svg.png', '//upload.wikimedia.org/wikipedia/commons/thumb/d/df/Walt_Disney_1946.JPG/220px-Walt_Disney_1946.JPG', '//upload.wikimedia.org/wikipedia/commons/thumb/8/87/Walt_Disney_1942_signature.svg/150px-Walt_Disney_1942_signature.svg.png', '//upload.wikimedia.org/wikipedia/commons/thumb/c/c4/Walt_Disney_envelope_ca._1921.jpg/220px-Walt_Disney_envelope_ca._1921.jpg', '//upload.wikimedia.org/wikipedia/commons/thumb/4/4d/Newman_Laugh-O-Gram_%281921%29.webm/220px-seek%3D2-Newman_Laugh-O-Gram_%281921%29.webm.jpg', '//upload.wikimedia.org/wikipedia/commons/thumb/0/0d/Trolley_Troubles_poster.jpg/170px-Trolley_Troubles_poster.jpg', '//upload.wikimedia.org/wikipedia/commons/thumb/7/71/Walt_Disney_and_his_cartoon_creation_%22Mickey_Mouse%22_-_National_Board_of_Review_Magazine.jpg/170px-Walt_Disney_and_his_cartoon_creation_%22Mickey_Mouse%22_-_National_Board_of_Review_Magazine.jpg', '//upload.wikimedia.org/wikipedia/en/thumb/4/4e/Steamboat-willie.jpg/170px-Steamboat-willie.jpg', '//upload.wikimedia.org/wikipedia/commons/thumb/5/57/Walt_Disney_1935.jpg/170px-Walt_Disney_1935.jpg', '//upload.wikimedia.org/wikipedia/commons/thumb/c/cd/Walt_Disney_Snow_white_1937_trailer_screenshot_%2813%29.jpg/220px-Walt_Disney_Snow_white_1937_trailer_screenshot_%2813%29.jpg', '//upload.wikimedia.org/wikipedia/commons/thumb/1/15/Disney_drawing_goofy.jpg/170px-Disney_drawing_goofy.jpg', '//upload.wikimedia.org/wikipedia/commons/thumb/1/13/DisneySchiphol1951.jpg/220px-DisneySchiphol1951.jpg', '//upload.wikimedia.org/wikipedia/commons/thumb/8/8c/WaltDisneyplansDisneylandDec1954.jpg/220px-WaltDisneyplansDisneylandDec1954.jpg', '//upload.wikimedia.org/wikipedia/commons/thumb/f/ff/Walt_disney_portrait_right.jpg/170px-Walt_disney_portrait_right.jpg', '//upload.wikimedia.org/wikipedia/commons/thumb/1/1a/Walt_Disney_Grave.JPG/170px-Walt_Disney_Grave.JPG', '//upload.wikimedia.org/wikipedia/commons/thumb/2/2d/Roy_O._Disney_with_Company_at_Press_Conference.jpg/170px-Roy_O._Disney_with_Company_at_Press_Conference.jpg', '//upload.wikimedia.org/wikipedia/commons/thumb/a/a9/Disney_Display_Case.JPG/170px-Disney_Display_Case.JPG', '//upload.wikimedia.org/wikipedia/commons/thumb/6/6c/Disney1968.jpg/170px-Disney1968.jpg', '//upload.wikimedia.org/wikipedia/en/thumb/8/8a/OOjs_UI_icon_edit-ltr-progressive.svg/10px-OOjs_UI_icon_edit-ltr-progressive.svg.png', '//upload.wikimedia.org/wikipedia/commons/thumb/d/da/Animation_disc.svg/30px-Animation_disc.svg.png', '//upload.wikimedia.org/wikipedia/en/thumb/6/69/P_vip.svg/29px-P_vip.svg.png', '//upload.wikimedia.org/wikipedia/commons/thumb/1/1a/Magic_Kingdom_castle.jpg/24px-Magic_Kingdom_castle.jpg', '//upload.wikimedia.org/wikipedia/en/thumb/e/e7/Video-x-generic.svg/30px-Video-x-generic.svg.png', '//upload.wikimedia.org/wikipedia/commons/thumb/a/a3/Flag_of_Los_Angeles_County%2C_California.svg/30px-Flag_of_Los_Angeles_County%2C_California.svg.png', '//upload.wikimedia.org/wikipedia/commons/thumb/8/8c/Blank_television_set.svg/30px-Blank_television_set.svg.png', '//upload.wikimedia.org/wikipedia/en/thumb/a/a4/Flag_of_the_United_States.svg/30px-Flag_of_the_United_States.svg.png', '//upload.wikimedia.org/wikipedia/en/thumb/4/4a/Commons-logo.svg/22px-Commons-logo.svg.png', '//upload.wikimedia.org/wikipedia/commons/thumb/f/fa/Wikiquote-logo.svg/25px-Wikiquote-logo.svg.png', '//upload.wikimedia.org/wikipedia/commons/thumb/f/ff/Wikidata-logo.svg/30px-Wikidata-logo.svg.png', '//upload.wikimedia.org/wikipedia/en/thumb/8/8a/OOjs_UI_icon_edit-ltr-progressive.svg/10px-OOjs_UI_icon_edit-ltr-progressive.svg.png', '//en.wikipedia.org/wiki/Special:CentralAutoLogin/start?type=1x1', '/static/images/wikimedia-button.png', '/static/images/poweredby_mediawiki_88x31.png']\n"
     ]
    }
   ],
   "source": [
    "#your code\n",
    "html = requests.get(url).content\n",
    "soup = BeautifulSoup(html,features=\"html.parser\")\n",
    "imagenes = soup.find_all('img')\n",
    "\n",
    "lista_links = []\n",
    "for i in imagenes:\n",
    "    lista_links.append(i.get('src'))\n",
    "\n",
    "print(lista_links)"
   ]
  },
  {
   "cell_type": "markdown",
   "metadata": {},
   "source": [
    "#### Retrieve an arbitary Wikipedia page of \"Python\" and create a list of links on that page"
   ]
  },
  {
   "cell_type": "code",
   "execution_count": null,
   "metadata": {},
   "outputs": [],
   "source": [
    "# This is the url you will scrape in this exercise\n",
    "url ='https://en.wikipedia.org/wiki/Python' "
   ]
  },
  {
   "cell_type": "code",
   "execution_count": 12,
   "metadata": {},
   "outputs": [
    {
     "name": "stdout",
     "output_type": "stream",
     "text": [
      "['/wiki/Wikipedia:Featured_articles', '/wiki/Wikipedia:Protection_policy#semi', '/wiki/The_Walt_Disney_Company', '/wiki/Walt_Disney_(disambiguation)', '/wiki/File:Walt_Disney_1946.JPG', '/wiki/Chicago', '/wiki/Burbank,_California', '/wiki/The_Walt_Disney_Company', '/wiki/Disney_family', '/wiki/Academy_Awards', '/wiki/Golden_Globe_Award', '/wiki/Emmy_Award', '/wiki/File:Walt_Disney_1942_signature.svg', '/wiki/Help:IPA/English', '/wiki/Modern_animation_in_the_United_States', '/wiki/Cartoon', '/wiki/Academy_Awards', '/wiki/Golden_Globe_Awards', '/wiki/Emmy_Award', '/wiki/National_Film_Registry', '/wiki/Library_of_Congress', '/wiki/The_Walt_Disney_Company', '/wiki/Roy_O._Disney', '/wiki/Ub_Iwerks', '/wiki/Mickey_Mouse', '/wiki/Technicolor', '/wiki/Feature-length', '/wiki/Snow_White_and_the_Seven_Dwarfs_(1937_film)', '/wiki/Pinocchio_(1940_film)', '/wiki/Fantasia_(1940_film)', '/wiki/Dumbo', '/wiki/Bambi', '/wiki/Live-action', '/wiki/Cinderella_(1950_film)', '/wiki/Mary_Poppins_(film)', '/wiki/Amusement_park', '/wiki/Disneyland', '/wiki/Walt_Disney_anthology_television_series', '/wiki/The_Mickey_Mouse_Club', '/wiki/American_National_Exhibition', '/wiki/1960_Winter_Olympics', '/wiki/1964_New_York_World%27s_Fair', '/wiki/Walt_Disney_World', '/wiki/EPCOT_(concept)', '/wiki/Racism', '/wiki/Antisemitism', '/wiki/American_imperialism', '/wiki/Cultural_icon', '/wiki/Hermosa,_Chicago', '/wiki/Elias_Disney', '/wiki/Province_of_Canada', '/wiki/Flora_Call_Disney', '/wiki/Given_name#Name_at_birth', '/wiki/Roy_O._Disney', '/wiki/Marceline,_Missouri', '/wiki/Appeal_to_Reason_(newspaper)', '/wiki/Ryan_Walker_(cartoonist)', '/wiki/Atchison,_Topeka_and_Santa_Fe_Railway', '/wiki/Kansas_City,_Missouri', '/wiki/Vaudeville', '/wiki/The_Kansas_City_Star', '/wiki/Kansas_City_Times', '/wiki/Kansas_City_Art_Institute', '/wiki/Correspondence_course', '/wiki/McKinley_High_School_(Chicago)', '/wiki/Chicago_Academy_of_Fine_Arts', '/wiki/United_States_Army', '/wiki/Western_Front_(World_War_I)', '/wiki/Age_fabrication', '/wiki/Red_Cross', '/wiki/Armistice_of_11_November_1918', '/wiki/Stars_and_Stripes_(newspaper)', '/wiki/Ub_Iwerks', '/wiki/File:Walt_Disney_envelope_ca._1921.jpg', '/wiki/File:Walt_Disney_envelope_ca._1921.jpg', '/wiki/Cutout_animation', '/wiki/Mutt_and_Jeff', '/wiki/Koko_the_Clown', '/wiki/Cel_animation', '/wiki/Cel', '/wiki/Fred_Harman', '/wiki/Paul_Terry_(cartoonist)', '/wiki/Aesop%27s_Fables_(film_series)', '//upload.wikimedia.org/wikipedia/commons/4/4d/Newman_Laugh-O-Gram_%281921%29.webm', '/wiki/File:Newman_Laugh-O-Gram_(1921).webm', '/wiki/Laugh-O-Gram_Studio', '/wiki/Harman_and_Ising', '/wiki/Harman_and_Ising', '/wiki/Alice%27s_Wonderland', '/wiki/Alice%27s_Adventures_in_Wonderland', '/wiki/Virginia_Davis', '/wiki/Alice_(Alice%27s_Adventures_in_Wonderland)', '/wiki/Short_film', '/wiki/Tuberculosis', '/wiki/Margaret_J._Winkler', '/wiki/Out_of_the_Inkwell', '/wiki/Felix_the_Cat', '/wiki/Alice_Comedies', '/wiki/The_Walt_Disney_Company', '/wiki/Cinema_of_the_United_States', '/wiki/Lillian_Disney', '/wiki/Lewiston,_Idaho', '/wiki/Neal_Gabler', '/wiki/Diane_Disney_Miller', '/wiki/Disney_family', '/wiki/Lindbergh_kidnapping', '/wiki/File:Trolley_Troubles_poster.jpg', '/wiki/File:Trolley_Troubles_poster.jpg', '/wiki/Trolley_Troubles', '/wiki/Charles_Mintz', '/wiki/Universal_Pictures', '/wiki/Oswald_the_Lucky_Rabbit', '/wiki/Carman_Maxwell', '/wiki/Friz_Freleng', '/wiki/Intellectual_property_rights', '/wiki/File:Walt_Disney_and_his_cartoon_creation_%22Mickey_Mouse%22_-_National_Board_of_Review_Magazine.jpg', '/wiki/File:Walt_Disney_and_his_cartoon_creation_%22Mickey_Mouse%22_-_National_Board_of_Review_Magazine.jpg', '/wiki/Mickey_Mouse', '/wiki/Mickey_Mouse', '/wiki/File:Steamboat-willie.jpg', '/wiki/File:Steamboat-willie.jpg', '/wiki/Mickey_Mouse', '/wiki/Steamboat_Willie', '/wiki/Plane_Crazy', '/wiki/The_Gallopin%27_Gaucho', '/wiki/The_Jazz_Singer', '/wiki/Steamboat_Willie', '/wiki/Sound_film', '/wiki/Pat_Powers_(businessman)', '/wiki/Carl_Stalling', '/wiki/Silly_Symphony', '/wiki/The_Skeleton_Dance', '/wiki/Disney%27s_Nine_Old_Men', '/wiki/Inbetweening', '/wiki/File:Walt_Disney_1935.jpg', '/wiki/File:Walt_Disney_1935.jpg', '/wiki/Columbia_Pictures', '/wiki/Flowers_and_Trees', '/wiki/Technicolor', '/wiki/Academy_Award', '/wiki/Academy_Award_for_Best_Animated_Short_Film', '/wiki/5th_Academy_Awards', '/wiki/Mickey%27s_Orphans', '/wiki/Academy_Honorary_Award', '/wiki/The_Three_Little_Pigs_(film)', '/wiki/Storyboard_artist', '/wiki/File:Walt_Disney_Snow_white_1937_trailer_screenshot_(13).jpg', '/wiki/File:Walt_Disney_Snow_white_1937_trailer_screenshot_(13).jpg', '/wiki/Snow_White_and_the_Seven_Dwarfs_(1937_film)', '/wiki/Snow_White_and_the_Seven_Dwarfs_(1937_film)', '/wiki/Snow_White', '/wiki/Chouinard_Art_Institute', '/wiki/Multiplane_camera', '/wiki/The_Old_Mill', '/wiki/The_Walt_Disney_Family_Museum', '/wiki/Pinocchio_(1940_film)', '/wiki/Fantasia_(1940_film)', '/wiki/World_War_II', '/wiki/Initial_public_offering', '/wiki/Disney_animators%27_strike', '/wiki/National_Labor_Relations_Board', '/wiki/Office_of_the_Coordinator_of_Inter-American_Affairs', '/wiki/Dumbo', '/wiki/File:Disney_drawing_goofy.jpg', '/wiki/File:Disney_drawing_goofy.jpg', '/wiki/Goofy', '/wiki/Henry_Morgenthau,_Jr.', '/wiki/United_States_Secretary_of_the_Treasury', '/wiki/Donald_Duck', '/wiki/Series_E_bond', '/wiki/Walt_Disney%27s_World_War_II_propaganda_production', '/wiki/Der_Fuehrer%27s_Face', '/wiki/Victory_Through_Air_Power_(film)', '/wiki/Bambi', '/wiki/Bank_of_America', '/wiki/Amadeo_Giannini', '/wiki/Warner_Bros._Cartoons', '/wiki/Metro-Goldwyn-Mayer_cartoon_studio', '/wiki/True-Life_Adventures', '/wiki/Seal_Island_(film)', '/wiki/Academy_Award_for_Best_Live_Action_Short_Film', '/wiki/Democratic_Party_(United_States)', '/wiki/1940_United_States_presidential_election', '/wiki/Republican_Party_(United_States)', '/wiki/Thomas_E._Dewey', '/wiki/1944_United_States_presidential_election', '/wiki/Motion_Picture_Alliance_for_the_Preservation_of_American_Ideals', '/wiki/Second_Red_Scare', '/wiki/House_Un-American_Activities_Committee', '/wiki/Herbert_Sorrell', '/wiki/David_Hilberman', '/wiki/William_Pomerance', '/wiki/Trade_union', '/wiki/File:DisneySchiphol1951.jpg', '/wiki/File:DisneySchiphol1951.jpg', '/wiki/Holmby_Hills', '/wiki/Ward_Kimball', '/wiki/Grizzly_Flats_Railroad', '/wiki/Live_steam', '/wiki/Carolwood_Pacific_Railroad', '/wiki/Roger_E._Broggie', '/wiki/Cinderella_(1950_film)', '/wiki/Treasure_Island_(1950_film)', '/wiki/The_Story_of_Robin_Hood_and_His_Merrie_Men', '/wiki/Alice_in_Wonderland_(1951_film)', '/wiki/Peter_Pan_(1953_film)', '/wiki/File:WaltDisneyplansDisneylandDec1954.jpg', '/wiki/File:WaltDisneyplansDisneylandDec1954.jpg', '/wiki/Disneyland', '/wiki/Orange_County,_California', '/wiki/Griffith_Park', '/wiki/Tivoli_Gardens', '/wiki/Anaheim,_California', '/wiki/Walt_Disney_Imagineering', '/wiki/American_Broadcasting-Paramount_Theatres', '/wiki/American_Broadcasting_Company', '/wiki/Western_Publishing', '/wiki/Disneyland', '/wiki/Main_Street,_U.S.A.', '/wiki/Adventureland_(Disney)', '/wiki/Frontierland', '/wiki/Fantasyland', '/wiki/Tomorrowland', '/wiki/Narrow-gauge_railway', '/wiki/Disneyland_Railroad', '/wiki/Berm', '/wiki/The_New_York_Times', '/wiki/Walt_Disney_anthology_television_series', '/wiki/Newsweek', '/wiki/The_Mickey_Mouse_Club', '/wiki/Miniseries', '/wiki/Davy_Crockett_(miniseries)', '/wiki/The_Ballad_of_Davy_Crockett', '/wiki/Walt_Disney_Records', '/wiki/American_National_Exhibition', '/wiki/America_the_Beautiful_(Disney)', '/wiki/Circle-Vision_360%C2%B0', '/wiki/1960_Winter_Olympics', '/wiki/Squaw_Valley,_Placer_County,_California', '/wiki/Olympic_Games_ceremony', '/wiki/File:Walt_disney_portrait_right.jpg', '/wiki/File:Walt_disney_portrait_right.jpg', '/wiki/Man_in_Space', '/wiki/NASA', '/wiki/Wernher_von_Braun', '/wiki/Lady_and_the_Tramp', '/wiki/CinemaScope', '/wiki/Sleeping_Beauty_(1959_film)', '/wiki/Technirama', '/wiki/70_mm_film', '/wiki/One_Hundred_and_One_Dalmatians', '/wiki/Traditional_animation#Xerography', '/wiki/The_Sword_in_the_Stone_(1963_film)', '/wiki/Mary_Poppins_(film)', '/wiki/Mary_Poppins_(book_series)', '/wiki/P._L._Travers', '/wiki/California_Institute_of_the_Arts', '/wiki/1964_New_York_World%27s_Fair', '/wiki/PepsiCo', '/wiki/UNICEF', '/wiki/It%27s_a_Small_World', '/wiki/Great_Moments_with_Mr._Lincoln', '/wiki/Abraham_Lincoln', '/wiki/Walt_Disney%27s_Carousel_of_Progress', '/wiki/Ski_resort', '/wiki/Mineral_King', '/wiki/Sierra_Nevada_(US)', '/wiki/Willy_Schaeffler', '/wiki/Walt_Disney_World', '/wiki/Orlando,_Florida', '/wiki/EPCOT_(concept)', '/wiki/The_Jungle_Book_(1967_film)', '/wiki/The_Happiest_Millionaire', '/wiki/Winnie_the_Pooh_and_the_Blustery_Day', '/wiki/File:Walt_Disney_Grave.JPG', '/wiki/File:Walt_Disney_Grave.JPG', '/wiki/Chain_smoking', '/wiki/Cigarette_filter', '/wiki/Cobalt_therapy', '/wiki/Providence_Saint_Joseph_Medical_Center', '/wiki/Circulatory_collapse', '/wiki/Forest_Lawn_Memorial_Park_(Glendale)', '/wiki/Glendale,_California', '/wiki/The_New_York_Times', '/wiki/Disney_Renaissance', '/wiki/The_Little_Mermaid_(1989_film)', '/wiki/File:Roy_O._Disney_with_Company_at_Press_Conference.jpg', '/wiki/File:Roy_O._Disney_with_Company_at_Press_Conference.jpg', '/wiki/Roy_O._Disney', '/wiki/Epcot_Center', '/wiki/World%27s_fair', '/wiki/Presidio_of_San_Francisco', '/wiki/H._G._Wells', '/wiki/The_Holy_Terror_(Wells_novel)', '/wiki/Len_Cariou', '/wiki/Tom_Hanks', '/wiki/Saving_Mr._Banks', '/wiki/Peter_Stephan_Jungk', '/wiki/Philip_Glass', '/wiki/The_Perfect_American', '/wiki/List_of_Academy_Awards_for_Walt_Disney', '/wiki/File:Disney_Display_Case.JPG', '/wiki/File:Disney_Display_Case.JPG', '/wiki/The_Walt_Disney_Family_Museum', '/wiki/Golden_Globe_Award', '/wiki/The_Living_Desert', '/wiki/Golden_Globe_Cecil_B._DeMille_Award', '/wiki/Emmy_Award', '/wiki/National_Film_Registry', '/wiki/Library_of_Congress', '/wiki/American_Film_Institute', '/wiki/Hollywood_Walk_of_Fame', '/wiki/Television_Hall_of_Fame', '/wiki/California_Hall_of_Fame', '/wiki/Anaheim/Orange_County_Walk_of_Stars', '/wiki/Legion_of_Honour', '/wiki/Presidential_Medal_of_Freedom', '/wiki/Congressional_Gold_Medal', '/wiki/National_Audubon_Society', '/wiki/Minor_planet', '/wiki/Lyudmila_Karachkina', '/wiki/4017_Disneya', '/wiki/Harvard_University', '/wiki/Yale', '/wiki/University_of_Southern_California', '/wiki/University_of_California,_Los_Angeles', '/wiki/File:Disney1968.jpg', '/wiki/File:Disney1968.jpg', '/wiki/Robert_E._Sherwood', '/wiki/Richard_Schickel', '/wiki/Otis_Ferguson', '/wiki/The_New_Republic', '/wiki/PBS', '/wiki/C._A._Lejeune', '/wiki/The_Observer', '/wiki/Bathos', '/wiki/Antisemitism', '/wiki/Art_Babbitt', '/wiki/B%27nai_B%27rith', '/wiki/Motion_Picture_Alliance_for_the_Preservation_of_American_Ideals', '/wiki/Song_of_the_South', '/wiki/National_Association_for_the_Advancement_of_Colored_People', '/wiki/Stereotypes_of_African_Americans', '/wiki/James_Baskett', '/wiki/Floyd_Norman', '/wiki/Marshall_Plan', '/wiki/Ariel_Dorfman', '/wiki/Armand_Mattelart', '/wiki/How_to_Read_Donald_Duck', '/wiki/Yankee', '/wiki/Cultural_icon', '/wiki/The_Times', '/wiki/Bosley_Crowther', '/wiki/Alistair_Cooke', '/wiki/William_the_Conqueror', '/wiki/Anglicisation', '/wiki/Norton_Disney', '/wiki/East_Midlands', '/wiki/Snow_White_and_the_Seven_Dwarfs_(1937_film)', '/wiki/The_Walt_Disney_Company', '/wiki/ESPN', '/wiki/NBCUniversal', '/wiki/Bob_Thomas_(reporter)', '/wiki/Mickey%27s_Rival', '/wiki/Minnie_Mouse', '/wiki/City_slicker', '/wiki/Disney%27s_Nine_Old_Men', '/wiki/Eric_Larson', '/wiki/Wolfgang_Reitherman', '/wiki/Les_Clark', '/wiki/Milt_Kahl', '/wiki/Ward_Kimball', '/wiki/Marc_Davis_(animator)', '/wiki/Ollie_Johnston', '/wiki/Frank_Thomas_(animator)', '/wiki/John_Lounsbery', '/wiki/United_States_Consumer_Price_Index', '/wiki/Saludos_Amigos', '/wiki/The_Three_Caballeros', '/wiki/United_States_Consumer_Price_Index', '/wiki/Make_Mine_Music', '/wiki/Song_of_the_South', '/wiki/Melody_Time', '/wiki/So_Dear_to_My_Heart', '/wiki/United_States_Consumer_Price_Index', '/wiki/Johnny_Tremain_(film)', '/wiki/Old_Yeller_(film)', '/wiki/Tonka_(film)', '/wiki/Swiss_Family_Robinson_(1960_film)', '/wiki/Pollyanna_(1960_film)', '/wiki/Lucille_Ball', '/wiki/I_Love_Lucy', '/wiki/Ward_Kimball', '/wiki/Academy_Award_for_Best_Documentary_(Short_Subject)', '/wiki/29th_Academy_Awards', '/wiki/Urban_legend', '/wiki/Cryonics', '/wiki/Art_Babbitt', '/wiki/German_American_Bund', '/wiki/The_Opry_House', '/wiki/Hasidic_Jew', '/wiki/Joe_Grant', '/wiki/Kay_Kamen', '/wiki/Mickey%27s_Mellerdrammer', '/wiki/Blackface', '/wiki/Bosley_Crowther', '/wiki/D23_(Disney)', '/wiki/Winnipeg_Free_Press', '/wiki/Hollywood_Walk_of_Fame', '/wiki/C._A._Lejeune', '/wiki/C._A._Lejeune', '/wiki/Digital_object_identifier', '//doi.org/10.1080%2F01619566709537484', '/wiki/JSTOR', '//www.jstor.org/stable/1491447', '/wiki/Alistair_Cooke', '/wiki/Michael_Barrier', '/wiki/International_Standard_Book_Number', '/wiki/Special:BookSources/978-0-19-503759-3', '/wiki/Michael_Barrier', '/wiki/International_Standard_Book_Number', '/wiki/Special:BookSources/978-0-520-24117-6', '/wiki/International_Standard_Book_Number', '/wiki/Special:BookSources/978-0-8109-0821-5', '/wiki/Michael_Broggie', '/wiki/International_Standard_Book_Number', '/wiki/Special:BookSources/978-0-9758584-2-4', '/wiki/International_Standard_Book_Number', '/wiki/Special:BookSources/978-0-7868-6496-6', '/wiki/International_Standard_Book_Number', '/wiki/Special:BookSources/978-0-520-04886-7', '/wiki/International_Standard_Book_Number', '/wiki/Special:BookSources/978-1-4766-0725-2', '/wiki/International_Standard_Book_Number', '/wiki/Special:BookSources/978-0-8108-6323-1', '/wiki/International_Standard_Book_Number', '/wiki/Special:BookSources/978-0-233-98961-7', '/wiki/International_Standard_Book_Number', '/wiki/Special:BookSources/978-0-7535-0344-7', '/wiki/Neal_Gabler', '/wiki/International_Standard_Book_Number', '/wiki/Special:BookSources/978-1-84513-277-4', '/wiki/International_Standard_Book_Number', '/wiki/Special:BookSources/978-1-61703-433-6', '/wiki/International_Standard_Book_Number', '/wiki/Special:BookSources/978-0-9843415-5-9', '/wiki/International_Standard_Book_Number', '/wiki/Special:BookSources/978-0-313-35830-2', '/wiki/Newton_Lee', '/wiki/International_Standard_Book_Number', '/wiki/Special:BookSources/978-1-4614-2101-6', '/wiki/International_Standard_Book_Number', '/wiki/Special:BookSources/978-1-317-00058-7', '/wiki/Leonard_Mosley', '/wiki/International_Standard_Book_Number', '/wiki/Special:BookSources/978-1-58979-656-0', '/wiki/International_Standard_Book_Number', '/wiki/Special:BookSources/978-1-937994-97-6', '/wiki/Floyd_Norman', '/wiki/International_Standard_Book_Number', '/wiki/Special:BookSources/978-0-240-81805-4', '/wiki/International_Standard_Book_Number', '/wiki/Special:BookSources/978-0-313-25455-0', '/wiki/Richard_Schickel', '/wiki/International_Standard_Book_Number', '/wiki/Special:BookSources/978-1-85145-007-7', '/wiki/International_Standard_Book_Number', '/wiki/Special:BookSources/978-3-540-00238-3', '/wiki/International_Standard_Book_Number', '/wiki/Special:BookSources/978-0-252-09263-3', '/wiki/Bob_Thomas_(reporter)', '/wiki/International_Standard_Book_Number', '/wiki/Special:BookSources/978-0-7868-6027-2', '/wiki/Frank_Thomas_(animator)', '/wiki/Ollie_Johnston', '/wiki/International_Standard_Book_Number', '/wiki/Special:BookSources/0-7868-6070-7', '/wiki/International_Standard_Book_Number', '/wiki/Special:BookSources/978-0-8264-5013-5', '/wiki/Digital_object_identifier', '//doi.org/10.2307%2F2081916', '/wiki/JSTOR', '//www.jstor.org/stable/2081916', '/wiki/International_Standard_Book_Number', '/wiki/Special:BookSources/978-0-8262-7300-0', '/wiki/International_Standard_Book_Number', '/wiki/Special:BookSources/978-0-7573-0231-2', '/wiki/International_Standard_Book_Number', '/wiki/Special:BookSources/978-2-88893-014-3', '/wiki/Copyright_law_of_New_Zealand#Copyright_term', '/wiki/IMDb', '/wiki/Turner_Classic_Movies', '//worldcat.org/identities/lccn-n78-95660', '/wiki/WorldCat', '/wiki/The_Interviews:_An_Oral_History_of_Television', '/wiki/Mickey_Mouse', '/wiki/Jimmy_MacDonald_(sound_effects_artist)', '/wiki/Template:Academy_Honorary_Award', '/wiki/Template_talk:Academy_Honorary_Award', '/wiki/Academy_Honorary_Award', '/wiki/Warner_Bros.', '/wiki/Charlie_Chaplin', '/wiki/Shirley_Temple', '/wiki/D._W._Griffith', '/wiki/The_March_of_Time', '/wiki/W._Howard_Greene', '/wiki/Harold_Rosson', '/wiki/Edgar_Bergen', '/wiki/W._Howard_Greene', '/wiki/Museum_of_Modern_Art_Department_of_Film', '/wiki/Mack_Sennett', '/wiki/Joseph_A._Ball', '/wiki/Deanna_Durbin', '/wiki/Mickey_Rooney', '/wiki/Gordon_Jennings', '/wiki/Jan_Domela', '/wiki/Farciot_Edouart', '/wiki/Loyal_Griggs', '/wiki/Loren_L._Ryder', '/wiki/Louis_Mesenkop', '/wiki/Oliver_T._Marsh', '/wiki/Harry_Warner', '/wiki/Douglas_Fairbanks', '/wiki/Judy_Garland', '/wiki/William_Cameron_Menzies', '/wiki/Motion_Picture_%26_Television_Fund', '/wiki/Jean_Hersholt', '/wiki/Ralph_Morgan', '/wiki/Ralph_Block', '/wiki/Conrad_Nagel', '/wiki/Technicolor_SA', '/wiki/Bob_Hope', '/wiki/Nathan_Levinson', '/wiki/William_Garity', '/wiki/RCA', '/wiki/Leopold_Stokowski', '/wiki/Ministry_of_Information_(United_Kingdom)', '/wiki/Charles_Boyer', '/wiki/No%C3%ABl_Coward', '/wiki/Metro-Goldwyn-Mayer', '/wiki/George_Pal', '/wiki/Bob_Hope', '/wiki/Margaret_O%27Brien', '/wiki/Daniel_J._Bloomberg', '/wiki/Walter_Wanger', '/wiki/The_House_I_Live_In_(1945_film)', '/wiki/Peggy_Ann_Garner', '/wiki/Harold_Russell', '/wiki/Laurence_Olivier', '/wiki/Ernst_Lubitsch', '/wiki/Claude_Jarman_Jr.', '/wiki/James_Baskett', '/wiki/Thomas_Armat', '/wiki/William_Nicholas_Selig', '/wiki/Albert_E._Smith_(producer)', '/wiki/George_Kirke_Spoor', '/wiki/Bill_and_Coo', '/wiki/Shoeshine_(film)', '/wiki/Walter_Wanger', '/wiki/Monsieur_Vincent', '/wiki/Sid_Grauman', '/wiki/Adolph_Zukor', '/wiki/Jean_Hersholt', '/wiki/Fred_Astaire', '/wiki/Cecil_B._DeMille', '/wiki/Bicycle_Thieves', '/wiki/Louis_B._Mayer', '/wiki/George_Murphy', '/wiki/The_Walls_of_Malapaga', '/wiki/Gene_Kelly', '/wiki/Rashomon', '/wiki/Merian_C._Cooper', '/wiki/Bob_Hope', '/wiki/Harold_Lloyd', '/wiki/Joseph_M._Schenck', '/wiki/Forbidden_Games', '/wiki/20th_Century_Fox', '/wiki/Bell_%26_Howell', '/wiki/Joseph_Breen', '/wiki/Pete_Smith_(film_producer)', '/wiki/Bausch_%26_Lomb', '/wiki/Danny_Kaye', '/wiki/Greta_Garbo', '/wiki/Jon_Whiteley', '/wiki/Vincent_Winter', '/wiki/Gate_of_Hell_(film)', '/wiki/Samurai_I:_Musashi_Miyamoto', '/wiki/Eddie_Cantor', '/wiki/Society_of_Motion_Picture_and_Television_Engineers', '/wiki/Broncho_Billy_Anderson', '/wiki/Charles_Brackett', '/wiki/B._B._Kahane', '/wiki/Maurice_Chevalier', '/wiki/Buster_Keaton', '/wiki/Lee_de_Forest', '/wiki/Gary_Cooper', '/wiki/Stan_Laurel', '/wiki/Hayley_Mills', '/wiki/William_L._Hendricks', '/wiki/Jerome_Robbins', '/wiki/William_J._Tuttle', '/wiki/Bob_Hope', '/wiki/Yakima_Canutt', '/wiki/Y._Frank_Freeman', '/wiki/Arthur_Freed', '/wiki/John_Chambers_(make-up_artist)', '/wiki/Onna_White', '/wiki/Cary_Grant', '/wiki/Lillian_Gish', '/wiki/Orson_Welles', '/wiki/Charlie_Chaplin', '/wiki/Edward_G._Robinson', '/wiki/Henri_Langlois', '/wiki/Groucho_Marx', '/wiki/Howard_Hawks', '/wiki/Jean_Renoir', '/wiki/Mary_Pickford', '/wiki/Margaret_Booth', '/wiki/Walter_Lantz', '/wiki/Laurence_Olivier', '/wiki/King_Vidor', '/wiki/Museum_of_Modern_Art', '/wiki/Alec_Guinness', '/wiki/Henry_Fonda', '/wiki/Barbara_Stanwyck', '/wiki/Mickey_Rooney', '/wiki/Hal_Roach', '/wiki/James_Stewart', '/wiki/National_Endowment_for_the_Arts', '/wiki/Paul_Newman', '/wiki/Alex_North', '/wiki/Ralph_Bellamy', '/wiki/Kodak', '/wiki/National_Film_Board_of_Canada', '/wiki/Akira_Kurosawa', '/wiki/Sophia_Loren', '/wiki/Myrna_Loy', '/wiki/Satyajit_Ray', '/wiki/Federico_Fellini', '/wiki/Deborah_Kerr', '/wiki/Michelangelo_Antonioni', '/wiki/Kirk_Douglas', '/wiki/Chuck_Jones', '/wiki/Michael_Kidd', '/wiki/Stanley_Donen', '/wiki/Elia_Kazan', '/wiki/Andrzej_Wajda', '/wiki/Jack_Cardiff', '/wiki/Ernest_Lehman', '/wiki/Sidney_Poitier', '/wiki/Robert_Redford', '/wiki/Peter_O%27Toole', '/wiki/Blake_Edwards', '/wiki/Sidney_Lumet', '/wiki/Robert_Altman', '/wiki/Ennio_Morricone', '/wiki/Robert_F._Boyle', '/wiki/Lauren_Bacall', '/wiki/Roger_Corman', '/wiki/Gordon_Willis', '/wiki/Kevin_Brownlow', '/wiki/Jean-Luc_Godard', '/wiki/Eli_Wallach', '/wiki/James_Earl_Jones', '/wiki/Dick_Smith_(make-up_artist)', '/wiki/D._A._Pennebaker', '/wiki/Hal_Needham', '/wiki/George_Stevens_Jr.', '/wiki/Angela_Lansbury', '/wiki/Steve_Martin', '/wiki/Piero_Tosi', '/wiki/Jean-Claude_Carri%C3%A8re', '/wiki/Hayao_Miyazaki', '/wiki/Maureen_O%27Hara', '/wiki/Spike_Lee', '/wiki/Gena_Rowlands', '/wiki/Jackie_Chan', '/wiki/Lynn_Stalmaster', '/wiki/Anne_V._Coates', '/wiki/Frederick_Wiseman', '/wiki/Charles_Burnett_(director)', '/wiki/Owen_Roizman', '/wiki/Donald_Sutherland', '/wiki/Agn%C3%A8s_Varda', '/wiki/Marvin_Levy_(publicist)', '/wiki/Lalo_Schifrin', '/wiki/Cicely_Tyson', '/wiki/David_Lynch', '/wiki/Wes_Studi', '/wiki/Lina_Wertm%C3%BCller', '/wiki/Template:Cecil_B._DeMille_Award', '/wiki/Template_talk:Cecil_B._DeMille_Award', '/wiki/Golden_Globe_Cecil_B._DeMille_Award', '/wiki/Cecil_B._DeMille', '/wiki/Darryl_F._Zanuck', '/wiki/Jean_Hersholt', '/wiki/Jack_L._Warner', '/wiki/Mervyn_LeRoy', '/wiki/Buddy_Adler', '/wiki/Maurice_Chevalier', '/wiki/Bing_Crosby', '/wiki/Fred_Astaire', '/wiki/Judy_Garland', '/wiki/Bob_Hope', '/wiki/Joseph_E._Levine', '/wiki/James_Stewart', '/wiki/John_Wayne', '/wiki/Charlton_Heston', '/wiki/Kirk_Douglas', '/wiki/Gregory_Peck', '/wiki/Joan_Crawford', '/wiki/Frank_Sinatra', '/wiki/Alfred_Hitchcock', '/wiki/Samuel_Goldwyn', '/wiki/Bette_Davis', '/wiki/Hal_B._Wallis', '/wiki/Walter_Mirisch', '/wiki/Red_Skelton', '/wiki/Lucille_Ball', '/wiki/Henry_Fonda', '/wiki/Gene_Kelly', '/wiki/Sidney_Poitier', '/wiki/Laurence_Olivier', '/wiki/Paul_Newman', '/wiki/Elizabeth_Taylor', '/wiki/Barbara_Stanwyck', '/wiki/Anthony_Quinn', '/wiki/Clint_Eastwood', '/wiki/Doris_Day', '/wiki/Audrey_Hepburn', '/wiki/Jack_Lemmon', '/wiki/Robert_Mitchum', '/wiki/Lauren_Bacall', '/wiki/Robert_Redford', '/wiki/Sophia_Loren', '/wiki/Sean_Connery', '/wiki/Dustin_Hoffman', '/wiki/Shirley_MacLaine', '/wiki/Jack_Nicholson', '/wiki/Barbra_Streisand', '/wiki/Al_Pacino', '/wiki/Harrison_Ford', '/wiki/Gene_Hackman', '/wiki/Michael_Douglas', '/wiki/Robin_Williams', '/wiki/Anthony_Hopkins', '/wiki/Warren_Beatty', '/wiki/Steven_Spielberg', '/wiki/Martin_Scorsese', '/wiki/Robert_De_Niro', '/wiki/Morgan_Freeman', '/wiki/Jodie_Foster', '/wiki/Woody_Allen', '/wiki/George_Clooney', '/wiki/Denzel_Washington', '/wiki/Meryl_Streep', '/wiki/Oprah_Winfrey', '/wiki/Jeff_Bridges', '/wiki/Tom_Hanks', '/wiki/Template:Honorary_C%C3%A9sar', '/wiki/Template_talk:Honorary_C%C3%A9sar', '/wiki/Honorary_C%C3%A9sar', '/wiki/Ingrid_Bergman', '/wiki/Diana_Ross', '/wiki/Henri_Langlois', '/wiki/Jacques_Tati', '/wiki/Robert_Dorfmann', '/wiki/Ren%C3%A9_Goscinny', '/wiki/Marcel_Carn%C3%A9', '/wiki/Charles_Vanel', '/wiki/Pierre_Braunberger', '/wiki/Louis_de_Fun%C3%A8s', '/wiki/Kirk_Douglas', '/wiki/Marcel_Pagnol', '/wiki/Alain_Resnais', '/wiki/Georges_Dancigers', '/wiki/Alexandre_Mnouchkine', '/w/index.php?title=Jean_N%C3%A9ny&action=edit&redlink=1', '/wiki/Andrzej_Wajda', '/wiki/Raimu', '/wiki/Ren%C3%A9_Cl%C3%A9ment', '/wiki/Georges_de_Beauregard', '/wiki/Edwige_Feuill%C3%A8re', '/wiki/Christian-Jaque', '/wiki/Danielle_Darrieux', '/wiki/Christine_Gouze-R%C3%A9nal', '/wiki/Alain_Poir%C3%A9', '/wiki/Maurice_Jarre', '/wiki/Bette_Davis', '/wiki/Jean_Delannoy', '/w/index.php?title=Ren%C3%A9_Ferracci&action=edit&redlink=1', '/wiki/Claude_Lanzmann', '/wiki/Jean-Luc_Godard', '/wiki/Serge_Silberman', '/wiki/Bernard_Blier', '/wiki/Paul_Grimault', '/wiki/G%C3%A9rard_Philipe', '/wiki/Jean-Pierre_Aumont', '/wiki/Sophia_Loren', '/wiki/Mich%C3%A8le_Morgan', '/wiki/Sylvester_Stallone', '/wiki/Jean_Marais', '/wiki/Marcello_Mastroianni', '/wiki/G%C3%A9rard_Oury', '/wiki/Jean_Carmet', '/wiki/Jeanne_Moreau', '/wiki/Gregory_Peck', '/wiki/Steven_Spielberg', '/wiki/Lauren_Bacall', '/wiki/Henri_Verneuil', '/wiki/Charles_Aznavour', '/wiki/Andie_MacDowell', '/wiki/Michael_Douglas', '/wiki/Clint_Eastwood', '/wiki/Jean-Luc_Godard', '/wiki/Pedro_Almod%C3%B3var', '/wiki/Johnny_Depp', '/wiki/Jean_Rochefort', '/wiki/Josiane_Balasko', '/wiki/Georges_Cravenne', '/wiki/Jean-Pierre_L%C3%A9aud', '/wiki/Martin_Scorsese', '/wiki/Darry_Cowl', '/wiki/Charlotte_Rampling', '/wiki/Agn%C3%A8s_Varda', '/wiki/Anouk_Aim%C3%A9e', '/wiki/Jeremy_Irons', '/wiki/Claude_Rich', '/wiki/Bernadette_Lafont', '/wiki/Spike_Lee', '/wiki/Meryl_Streep', '/wiki/Micheline_Presle', '/wiki/Jacques_Dutronc', '/wiki/Will_Smith', '/wiki/Hugh_Grant', '/wiki/Pierre_Richard', '/wiki/Marl%C3%A8ne_Jobert', '/wiki/Jude_Law', '/wiki/Jeanne_Moreau', '/wiki/Roberto_Benigni', '/wiki/Dustin_Hoffman', '/wiki/Harrison_Ford', '/wiki/Quentin_Tarantino', '/wiki/Kate_Winslet', '/wiki/Kevin_Costner', '/wiki/Scarlett_Johansson', '/wiki/Sean_Penn', '/wiki/Michael_Douglas', '/wiki/George_Clooney', '/wiki/Pen%C3%A9lope_Cruz', '/wiki/Robert_Redford', '/wiki/Template:Thalberg_Award', '/wiki/Template_talk:Thalberg_Award', '/wiki/Irving_G._Thalberg_Memorial_Award', '/wiki/Darryl_F._Zanuck', '/wiki/Hal_B._Wallis', '/wiki/David_O._Selznick', '/wiki/Sidney_Franklin_(director)', '/wiki/Hal_B._Wallis', '/wiki/Darryl_F._Zanuck', '/wiki/Samuel_Goldwyn', '/wiki/Jerry_Wald', '/wiki/Darryl_F._Zanuck', '/wiki/Arthur_Freed', '/wiki/Cecil_B._DeMille', '/wiki/George_Stevens', '/wiki/Buddy_Adler', '/wiki/Jack_L._Warner', '/wiki/Stanley_Kramer', '/wiki/Sam_Spiegel', '/wiki/William_Wyler', '/wiki/Robert_Wise', '/wiki/Alfred_Hitchcock', '/wiki/Ingmar_Bergman', '/wiki/Lawrence_Weingarten', '/wiki/Mervyn_LeRoy', '/wiki/Pandro_S._Berman', '/wiki/Walter_Mirisch', '/wiki/Ray_Stark', '/wiki/Albert_R._Broccoli', '/wiki/Steven_Spielberg', '/wiki/Billy_Wilder', '/wiki/David_Brown_(producer)', '/wiki/Richard_D._Zanuck', '/wiki/George_Lucas', '/wiki/Clint_Eastwood', '/wiki/Saul_Zaentz', '/wiki/Norman_Jewison', '/wiki/Warren_Beatty', '/wiki/Dino_De_Laurentiis', '/wiki/John_Calley', '/wiki/Francis_Ford_Coppola', '/wiki/Kathleen_Kennedy_(producer)', '/wiki/Frank_Marshall_(producer)', '/wiki/Template:1986_Television_Hall_of_Fame', '/wiki/Template_talk:1986_Television_Hall_of_Fame', '/wiki/Television_Hall_of_Fame', '/wiki/Steve_Allen', '/wiki/Fred_Coe', '/wiki/Jackie_Gleason', '/wiki/Mary_Tyler_Moore', '/wiki/Frank_Stanton_(executive)', '/wiki/Burr_Tillstrom', '/wiki/Template:Disney', '/wiki/Template_talk:Disney', '/wiki/The_Walt_Disney_Company', '/wiki/Walt_Disney_Studios_(Burbank)', '/wiki/Grand_Central_Airport_(California)', '/wiki/List_of_management_of_The_Walt_Disney_Company', '/wiki/Roy_O._Disney', '/wiki/List_of_management_of_The_Walt_Disney_Company', '/wiki/Bob_Iger', '/wiki/Chief_executive_officer', '/wiki/Alan_N._Braverman', '/wiki/Vice_president', '/wiki/General_counsel', '/wiki/Christine_McCarthy', '/wiki/Chief_financial_officer', '/wiki/Zenia_Mucha', '/wiki/Public_relations_officer', '/wiki/Susan_Arnold', '/wiki/Mary_Barra', '/wiki/Safra_Catz', '/wiki/Francis_deSouza', '/wiki/Michael_Froman', '/wiki/Bob_Iger', '/wiki/Chairman', '/wiki/Maria_Elena_Lagomasino', '/wiki/Mark_Parker', '/wiki/Walt_Disney_Studios_(division)', '/wiki/Walt_Disney_Studios_Motion_Pictures', '/wiki/Walt_Disney_Pictures', '/wiki/Disneynature', '/wiki/Walt_Disney_Animation_Studios', '/wiki/Pixar', '/wiki/Marvel_Studios', '/wiki/Lucasfilm', '/wiki/20th_Century_Fox', '/wiki/Fox_2000_Pictures', '/wiki/Fox_Searchlight_Pictures', '/wiki/20th_Century_Fox_Animation', '/wiki/Blue_Sky_Studios', '/wiki/Disney_Music_Group', '/wiki/Disney_Theatrical_Group', '/wiki/Walt_Disney_Television', '/wiki/American_Broadcasting_Company', '/wiki/ABC_Studios', '/wiki/20th_Century_Fox_Television', '/wiki/Fox_21_Television_Studios', '/wiki/Fox_Television_Animation', '/wiki/ABC_Owned_Television_Stations', '/wiki/Disney_Channels_Worldwide', '/wiki/Disney_Television_Animation', '/wiki/It%27s_a_Laugh_Productions', '/wiki/Freeform_(TV_channel)', '/wiki/FX_(TV_channel)', '/wiki/FX_(TV_channel)#FX_Productions', '/wiki/Hulu', '/wiki/National_Geographic_Global_Networks#Anglo-America', '/wiki/ESPN_Inc.', '/wiki/A%26E_Networks', '/wiki/Disney_Parks,_Experiences_and_Products', '/wiki/FoxNext', '/wiki/Disneyland_Resort', '/wiki/Disneyland_Paris', '/wiki/Hong_Kong_Disneyland_Resort', '/wiki/Shanghai_Disney_Resort', '/wiki/Walt_Disney_Attractions_Japan', '/wiki/Walt_Disney_World', '/wiki/Walt_Disney_Imagineering', '/wiki/Adventures_by_Disney', '/wiki/Disney_Cruise_Line', '/wiki/Disney_Vacation_Club', '/wiki/Disney_Consumer_Products_and_Interactive_Media', '/wiki/Disney_Consumer_Products_and_Interactive_Media', '/wiki/Disney_Store', '/wiki/Disney_Publishing_Worldwide', '/wiki/Disney_English', '/wiki/Disney.com', '/wiki/Disney_Interactive', '/wiki/The_Muppets_Studio', '/wiki/Walt_Disney_Direct-to-Consumer_%26_International', '/wiki/Disney_Channels_Worldwide', '/wiki/Fox_Networks_Group', '/wiki/ESPN_International', '/wiki/Disney%E2%80%93ABC_Domestic_Television', '/wiki/Disney_Media_Distribution', '/wiki/Endemol_Shine_Group', '/wiki/Walt_Disney_Studios_Home_Entertainment', '/wiki/Disney_Digital_Network', '/wiki/BAMTech', '/wiki/Disney%2B', '/wiki/ESPN%2B', '/wiki/Hulu', '/wiki/The_Walt_Disney_Company_India', '/wiki/Star_India', '/wiki/Hotstar', '/wiki/Tata_Sky', '/wiki/UTV_Software_Communications', '/wiki/Super_RTL', '/wiki/RTL_II', '/wiki/The_Walt_Disney_Company_Italy', '/wiki/The_Walt_Disney_Company_Latin_America', '/wiki/Patagonik_Film_Group', '/wiki/Rede_Telecine', '/wiki/List_of_assets_owned_by_The_Walt_Disney_Company', '/wiki/Buena_Vista_(brand)', '/wiki/D23_(Disney)', '/wiki/DisneyNow', '/wiki/Disney_Institute', '/wiki/Disney_University', '/wiki/Marvel_Entertainment', '/wiki/Reedy_Creek_Energy_Services', '/wiki/TrueX', '/wiki/Timeline_of_The_Walt_Disney_Company', '/wiki/Criticism_of_The_Walt_Disney_Company', '/wiki/Retlaw_Enterprises', '/wiki/21st_Century_Fox', '/wiki/Acquisition_of_21st_Century_Fox_by_Disney', '/wiki/Template:Disneyland_Resort', '/wiki/Template_talk:Disneyland_Resort', '/wiki/Disneyland_Resort', '/wiki/Disneyland', '/wiki/List_of_Disneyland_attractions', '/wiki/List_of_former_Disneyland_attractions', '/wiki/Disney_California_Adventure', '/wiki/List_of_Disney_California_Adventure_attractions', '/wiki/List_of_former_Disney_California_Adventure_attractions', '/wiki/Disneyland_Hotel_(California)', '/wiki/Disney%27s_Paradise_Pier_Hotel', '/wiki/Disney%27s_Grand_Californian_Hotel_%26_Spa', '/wiki/Downtown_Disney', '/wiki/World_of_Disney', '/wiki/Trader_Sam%27s_Enchanted_Tiki_Bar', '/wiki/Napa_Rose', '/wiki/Disneyland_Monorail_System', '/wiki/Team_Disney', '/wiki/Corey_Burton', '/wiki/Claude_Coats', '/wiki/Marc_Davis_(animator)', '/wiki/Roy_O._Disney', '/wiki/Ron_Dominguez', '/wiki/Greg_Emmer', '/wiki/Joe_Fowler', '/wiki/Paul_Frees', '/wiki/Ed_Grier', '/wiki/Cynthia_Harriss', '/wiki/Art_Linkletter', '/wiki/Jack_Lindquist', '/wiki/Michael_Eisner', '/wiki/Matt_Ouimet', '/wiki/Paul_Pressler', '/wiki/Thurl_Ravenscroft', '/wiki/Herbert_Ryman', '/wiki/Jack_Wagner_(announcer)', '/wiki/Jack_Wrather', '/wiki/Tony_Baxter', '/wiki/Marty_Sklar', '/wiki/Happiest_Homecoming_on_Earth', '/wiki/Magic_Music_Days', '/wiki/Disney%27s_Fairy_Tale_Weddings_%26_Honeymoons', '/wiki/Incidents_at_Disneyland_Resort', '/wiki/E_ticket', '/wiki/FastPass', '/wiki/Disney_PhotoPass', '/wiki/Disneyland,_Inc.', '/wiki/SRI_International', '/wiki/Partners_Federal_Credit_Union', '/wiki/Voluntears', '/wiki/Walt_Disney_Imagineering', '/wiki/Walt_Disney_Creative_Entertainment', '/wiki/Anaheim,_California', '/wiki/Anaheim_Rapid_Connection', '/wiki/Anaheim_Resort', '/wiki/Anaheim_Resort_Transportation', '/wiki/Walt_Disney_Parks_and_Resorts', '/wiki/The_Walt_Disney_Company', '/wiki/Portal:Contents/Portals', '/wiki/File:Animation_disc.svg', '/wiki/Portal:Animation', '/wiki/File:P_vip.svg', '/wiki/Portal:Biography', '/wiki/File:Magic_Kingdom_castle.jpg', '/wiki/Portal:Disney', '/wiki/File:Video-x-generic.svg', '/wiki/Portal:Film', '/wiki/File:Flag_of_Los_Angeles_County,_California.svg', '/wiki/Portal:Greater_Los_Angeles', '/wiki/File:Blank_television_set.svg', '/wiki/Portal:Television', '/wiki/File:Flag_of_the_United_States.svg', '/wiki/Portal:United_States', '/wiki/Wikipedia:Wikimedia_sister_projects', '/wiki/Help:Authority_control', '/wiki/Auckland_Art_Gallery_Toi_o_T%C4%81maki', '/wiki/Bibsys', '/wiki/Biblioteca_Nacional_de_Espa%C3%B1a', '/wiki/Biblioth%C3%A8que_nationale_de_France', '/wiki/Name_and_Title_Authority_File_of_Catalonia', '/wiki/CiNii', '/wiki/Integrated_Authority_File', '/wiki/International_Standard_Name_Identifier', '/wiki/Library_of_Congress_Control_Number', '/wiki/MusicBrainz', '/wiki/National_Archives_and_Records_Administration', '/wiki/National_Diet_Library', '/wiki/National_Library_of_the_Czech_Republic', '/wiki/National_Library_of_Australia', '/wiki/National_Library_of_Israel', '/wiki/National_Library_of_Romania', '/wiki/Royal_Library_of_the_Netherlands', '/wiki/Netherlands_Institute_for_Art_History#Online_artist_pages', '/wiki/LIBRIS', '/wiki/SNAC', '/wiki/Syst%C3%A8me_universitaire_de_documentation', '/wiki/Trove', '/wiki/Union_List_of_Artist_Names', '/wiki/Virtual_International_Authority_File', '/wiki/WorldCat_Identities', '/wiki/Help:Category', '/wiki/Category:Walt_Disney', '/wiki/Category:1901_births', '/wiki/Category:1966_deaths', '/wiki/Category:20th-century_American_artists', '/wiki/Category:20th-century_American_businesspeople', '/wiki/Category:20th-century_American_male_actors', '/wiki/Category:20th-century_American_writers', '/wiki/Category:Academy_Honorary_Award_recipients', '/wiki/Category:American_animated_film_producers', '/wiki/Category:American_anti-communists', '/wiki/Category:American_anti-fascists', '/wiki/Category:American_cartoonists', '/wiki/Category:American_company_founders', '/wiki/Category:Film_producers_from_Missouri', '/wiki/Category:American_film_studio_executives', '/wiki/Category:American_film_production_company_founders', '/wiki/Category:American_male_screenwriters', '/wiki/Category:American_male_voice_actors', '/wiki/Category:American_mass_media_owners', '/wiki/Category:American_people_of_Canadian_descent', '/wiki/Category:American_people_of_English_descent', '/wiki/Category:American_people_of_German_descent', '/wiki/Category:American_people_of_Irish_descent', '/wiki/Category:American_Red_Cross_personnel', '/wiki/Category:Philanthropists_from_Illinois', '/wiki/Category:American_television_hosts', '/wiki/Category:Amusement_park_owners', '/wiki/Category:Animators_from_Illinois', '/wiki/Category:Animators_from_Missouri', '/wiki/Category:Artists_from_Chicago', '/wiki/Category:Burials_at_Forest_Lawn_Memorial_Park_(Glendale)', '/wiki/Category:Deaths_from_cancer_in_California', '/wiki/Category:Cecil_B._DeMille_Award_Golden_Globe_winners', '/wiki/Category:C%C3%A9sar_Honorary_Award_recipients', '/wiki/Category:Chairmen_of_Disney', '/wiki/Category:Congressional_Gold_Medal_recipients', '/wiki/Category:Deaths_from_lung_cancer', '/wiki/Category:Disney_family', '/wiki/Category:Disney_executives', '/wiki/Category:Film_directors_from_Missouri', '/wiki/Category:History_of_animation', '/wiki/Category:Kansas_City_Art_Institute_alumni', '/wiki/Category:Male_actors_from_Missouri', '/wiki/Category:People_from_Marceline,_Missouri', '/wiki/Category:Presidential_Medal_of_Freedom_recipients', '/wiki/Category:Primetime_Emmy_Award_winners', '/wiki/Category:Producers_of_Best_Documentary_Short_Subject_Academy_Award_winners', '/wiki/Category:Producers_of_Live_Action_Short_Film_Academy_Award_winners', '/wiki/Category:Recipients_of_the_Irving_G._Thalberg_Memorial_Award', '/wiki/Category:School_of_the_Art_Institute_of_Chicago_alumni', '/wiki/Category:Writers_from_Chicago', '/wiki/Category:Writers_from_Missouri', '/wiki/Category:Screenwriters_from_Illinois', '/wiki/Category:Recipients_of_the_Silver_Buffalo_Award', '/wiki/Category:Pages_containing_links_to_subscription-only_content', '/wiki/Category:Articles_with_short_description', '/wiki/Category:Wikipedia_indefinitely_semi-protected_pages', '/wiki/Category:Wikipedia_indefinitely_move-protected_pages', '/wiki/Category:Featured_articles', '/wiki/Category:Use_mdy_dates_from_April_2017', '/wiki/Category:Use_American_English_from_May_2016', '/wiki/Category:All_Wikipedia_articles_written_in_American_English', '/wiki/Category:Biography_with_signature', '/wiki/Category:Articles_with_hCards', '/wiki/Category:Articles_containing_German-language_text', '/wiki/Category:Articles_containing_French-language_text', '/wiki/Category:Articles_containing_Spanish-language_text', '/wiki/Category:Articles_with_Wikilivres_links', '/wiki/Category:Articles_using_Template:The_Interviews_people', '/wiki/Category:Wikipedia_articles_with_AAG_identifiers', '/wiki/Category:Wikipedia_articles_with_BIBSYS_identifiers', '/wiki/Category:Wikipedia_articles_with_BNE_identifiers', '/wiki/Category:Wikipedia_articles_with_BNF_identifiers', '/wiki/Category:Wikipedia_articles_with_CANTIC_identifiers', '/wiki/Category:Wikipedia_articles_with_CINII_identifiers', '/wiki/Category:Wikipedia_articles_with_GND_identifiers', '/wiki/Category:Wikipedia_articles_with_ISNI_identifiers', '/wiki/Category:Wikipedia_articles_with_LCCN_identifiers', '/wiki/Category:Wikipedia_articles_with_MusicBrainz_identifiers', '/wiki/Category:Wikipedia_articles_with_NARA_identifiers', '/wiki/Category:Wikipedia_articles_with_NDL_identifiers', '/wiki/Category:Wikipedia_articles_with_NKC_identifiers', '/wiki/Category:Wikipedia_articles_with_NLA_identifiers', '/wiki/Category:Wikipedia_articles_with_NLI_identifiers', '/wiki/Category:Wikipedia_articles_with_NLR_identifiers', '/wiki/Category:Wikipedia_articles_with_NTA_identifiers', '/wiki/Category:Wikipedia_articles_with_PIC_identifiers', '/wiki/Category:Wikipedia_articles_with_RKDartists_identifiers', '/wiki/Category:Wikipedia_articles_with_SELIBR_identifiers', '/wiki/Category:Wikipedia_articles_with_SNAC-ID_identifiers', '/wiki/Category:Wikipedia_articles_with_SUDOC_identifiers', '/wiki/Category:Wikipedia_articles_with_Trove_identifiers', '/wiki/Category:Wikipedia_articles_with_ULAN_identifiers', '/wiki/Category:Wikipedia_articles_with_VIAF_identifiers', '/wiki/Category:Wikipedia_articles_with_WorldCat-VIAF_identifiers', '/wiki/Category:AC_with_25_elements', '/wiki/Category:Articles_containing_video_clips', '/wiki/Special:MyTalk', '/wiki/Special:MyContributions', '/w/index.php?title=Special:CreateAccount&returnto=Walt+Disney', '/w/index.php?title=Special:UserLogin&returnto=Walt+Disney', '/wiki/Walt_Disney', '/wiki/Talk:Walt_Disney', '/wiki/Walt_Disney', '/w/index.php?title=Walt_Disney&action=edit', '/w/index.php?title=Walt_Disney&action=history', '/wiki/Main_Page', '/wiki/Main_Page', '/wiki/Portal:Contents', '/wiki/Portal:Featured_content', '/wiki/Portal:Current_events', '/wiki/Special:Random', '//shop.wikimedia.org', '/wiki/Help:Contents', '/wiki/Wikipedia:About', '/wiki/Wikipedia:Community_portal', '/wiki/Special:RecentChanges', '//en.wikipedia.org/wiki/Wikipedia:Contact_us', '/wiki/Special:WhatLinksHere/Walt_Disney', '/wiki/Special:RecentChangesLinked/Walt_Disney', '/wiki/Wikipedia:File_Upload_Wizard', '/wiki/Special:SpecialPages', '/w/index.php?title=Walt_Disney&oldid=918373619', '/w/index.php?title=Walt_Disney&action=info', '/w/index.php?title=Special:CiteThisPage&page=Walt_Disney&id=918373619', '/w/index.php?title=Special:Book&bookcmd=book_creator&referer=Walt+Disney', '/w/index.php?title=Special:ElectronPdf&page=Walt+Disney&action=show-download-screen', '/w/index.php?title=Walt_Disney&printable=yes', '//en.wikipedia.org/wiki/Wikipedia:Text_of_Creative_Commons_Attribution-ShareAlike_3.0_Unported_License', '//creativecommons.org/licenses/by-sa/3.0/', '//foundation.wikimedia.org/wiki/Terms_of_Use', '//foundation.wikimedia.org/wiki/Privacy_policy', '//www.wikimediafoundation.org/', '/wiki/Wikipedia:About', '/wiki/Wikipedia:General_disclaimer', '//en.wikipedia.org/wiki/Wikipedia:Contact_us', '//en.m.wikipedia.org/w/index.php?title=Walt_Disney&mobileaction=toggle_view_mobile']\n"
     ]
    }
   ],
   "source": [
    "#your code\n",
    "html = requests.get(url).content\n",
    "soup = BeautifulSoup(html,features=\"html.parser\")\n",
    "links = soup.find_all(\"a\")\n",
    "\n",
    "lista_links = []\n",
    "for link in links:\n",
    "    dato = link.get('href')\n",
    "    if dato != None:\n",
    "        if dato[0] =='/':\n",
    "            lista_links.append(dato)\n",
    "print(lista_links)\n"
   ]
  },
  {
   "cell_type": "markdown",
   "metadata": {},
   "source": [
    "#### Number of Titles that have changed in the United States Code since its last release point "
   ]
  },
  {
   "cell_type": "code",
   "execution_count": 14,
   "metadata": {},
   "outputs": [],
   "source": [
    "# This is the url you will scrape in this exercise\n",
    "url = 'http://uscode.house.gov/download/download.shtml'"
   ]
  },
  {
   "cell_type": "code",
   "execution_count": 15,
   "metadata": {},
   "outputs": [
    {
     "name": "stdout",
     "output_type": "stream",
     "text": [
      "['Title 6 - Domestic Security', 'Title 31 - Money and Finance ٭']\n"
     ]
    }
   ],
   "source": [
    "#your code\n",
    "html = requests.get(url).content\n",
    "soup = BeautifulSoup(html,features=\"html.parser\")\n",
    "links = soup.find_all(class_='usctitlechanged')\n",
    "\n",
    "titles_changed = []\n",
    "for link in links:\n",
    "    titulo = link.text\n",
    "    titles_changed.append(titulo.strip())\n",
    "\n",
    "print(titles_changed)"
   ]
  },
  {
   "cell_type": "markdown",
   "metadata": {},
   "source": [
    "#### A Python list with the top ten FBI's Most Wanted names "
   ]
  },
  {
   "cell_type": "code",
   "execution_count": 2,
   "metadata": {},
   "outputs": [],
   "source": [
    "# This is the url you will scrape in this exercise\n",
    "url = 'https://www.fbi.gov/wanted/topten'"
   ]
  },
  {
   "cell_type": "code",
   "execution_count": 9,
   "metadata": {},
   "outputs": [
    {
     "data": {
      "text/plain": [
       "['EUGENE PALMER',\n",
       " 'SANTIAGO VILLALBA MEDEROS',\n",
       " 'RAFAEL CARO-QUINTERO',\n",
       " 'ROBERT WILLIAM FISHER',\n",
       " 'BHADRESHKUMAR CHETANBHAI PATEL',\n",
       " 'ARNOLDO JIMENEZ',\n",
       " 'ALEJANDRO ROSALES CASTILLO',\n",
       " 'YASER ABDEL SAID',\n",
       " 'JASON DEREK BROWN',\n",
       " 'ALEXIS FLORES']"
      ]
     },
     "execution_count": 9,
     "metadata": {},
     "output_type": "execute_result"
    }
   ],
   "source": [
    "#your code \n",
    "html = requests.get(url).content\n",
    "soup = BeautifulSoup(html,features=\"html.parser\")\n",
    "links = soup.find_all(class_='portal-type-person castle-grid-block-item')\n",
    "most_wanted = []\n",
    "for link in links:\n",
    "    name = link.text\n",
    "    most_wanted.append(name.strip())\n",
    "\n",
    "most_wanted"
   ]
  },
  {
   "cell_type": "markdown",
   "metadata": {},
   "source": [
    "####  20 latest earthquakes info (date, time, latitude, longitude and region name) by the EMSC as a pandas dataframe"
   ]
  },
  {
   "cell_type": "code",
   "execution_count": 3,
   "metadata": {},
   "outputs": [],
   "source": [
    "# This is the url you will scrape in this exercise\n",
    "url = 'https://www.emsc-csem.org/Earthquake/'"
   ]
  },
  {
   "cell_type": "code",
   "execution_count": 10,
   "metadata": {},
   "outputs": [
    {
     "name": "stdout",
     "output_type": "stream",
     "text": [
      "         Fecha        Hora Latitud Grados Latitud Orientacion Longitud Grados  \\\n",
      "0   2019-11-09  03:20:31.5          19.39                   N          155.40   \n",
      "1   2019-11-09  03:08:23.0           8.90                   S          119.27   \n",
      "2   2019-11-09  03:03:12.0          18.43                   S           71.26   \n",
      "3   2019-11-09  02:39:28.5          39.26                   N          116.46   \n",
      "4   2019-11-09  02:31:56.7          37.70                   N           47.45   \n",
      "5   2019-11-09  02:21:15.0          31.87                   S          138.67   \n",
      "6   2019-11-09  02:11:07.7          18.97                   N           67.14   \n",
      "7   2019-11-09  02:02:19.3          35.75                   N          117.60   \n",
      "8   2019-11-09  01:40:37.9          56.29                   N          156.60   \n",
      "9   2019-11-09  01:40:32.8          61.48                   N          149.88   \n",
      "10  2019-11-09  01:19:38.0           8.16                   S          107.90   \n",
      "11  2019-11-09  00:28:08.2          27.26                   S           66.71   \n",
      "12  2019-11-09  00:17:02.6          36.45                   N          118.01   \n",
      "13  2019-11-09  00:16:25.9          43.98                   N           11.44   \n",
      "14  2019-11-09  00:07:28.0           6.75                   N          125.00   \n",
      "15  2019-11-09  00:06:34.0          20.14                   S           70.94   \n",
      "16  2019-11-09  00:06:34.0          20.14                   S           70.94   \n",
      "17  2019-11-09  00:06:34.0          20.14                   S           70.94   \n",
      "18  2019-11-09  00:06:34.0          20.14                   S           70.94   \n",
      "19  2019-11-08  23:54:13.6          19.17                   N          155.47   \n",
      "\n",
      "   Longitud Orientacion Magnitud                        Region  \n",
      "0                     W      2.1      ISLAND OF HAWAII, HAWAII  \n",
      "1                     E      4.0      FLORES REGION, INDONESIA  \n",
      "2                     W      3.3  OFF COAST OF TARAPACA, CHILE  \n",
      "3                     W      2.0                        NEVADA  \n",
      "4                     E      3.5             NORTHWESTERN IRAN  \n",
      "5                     E      2.6               SOUTH AUSTRALIA  \n",
      "6                     W      2.0            PUERTO RICO REGION  \n",
      "7                     W      2.7           SOUTHERN CALIFORNIA  \n",
      "8                     W      3.9              ALASKA PENINSULA  \n",
      "9                     W      3.5               SOUTHERN ALASKA  \n",
      "10                    E      4.2               JAVA, INDONESIA  \n",
      "11                    E      5.0  INDIAN OCEAN TRIPLE JUNCTION  \n",
      "12                    W      2.2            CENTRAL CALIFORNIA  \n",
      "13                    E      2.3                 CENTRAL ITALY  \n",
      "14                    E      4.1         MINDANAO, PHILIPPINES  \n",
      "15                    W      3.8      OFFSHORE TARAPACA, CHILE  \n",
      "16                    W      3.8      OFFSHORE TARAPACA, CHILE  \n",
      "17                    W      3.8      OFFSHORE TARAPACA, CHILE  \n",
      "18                    W      3.8      OFFSHORE TARAPACA, CHILE  \n",
      "19                    W      2.5      ISLAND OF HAWAII, HAWAII  \n"
     ]
    }
   ],
   "source": [
    "html = requests.get(url).content\n",
    "soup = BeautifulSoup(html,features=\"html.parser\")\n",
    "tabla = soup.find(lambda tag : tag.has_attr('id') and tag['id'] == 'tbody')\n",
    "filas = tabla.find_all(lambda tag: tag.name == 'tr')\n",
    "\n",
    "informacion_tabla=[]\n",
    "for i in filas:\n",
    "    tag_hora = i.find(class_='tabev6')\n",
    "    tag_latitud_dg = i.find_all(class_='tabev1')\n",
    "    tag_latitud_or = i.find_all(class_='tabev2')\n",
    "    tag_region = i.find(class_='tb_region')\n",
    "\n",
    "    if tag_hora != None:\n",
    "        hora = tag_hora.b.a.text\n",
    "        datos = hora.split('\\xa0\\xa0\\xa0')\n",
    "\n",
    "    if tag_latitud_dg != None:\n",
    "        grados = [re.sub('\\xa0','',x.text) for x in tag_latitud_dg]\n",
    "        datos.append(grados)\n",
    "\n",
    "    if tag_latitud_or != None:\n",
    "        orientacion = [re.sub('\\xa0','',x.text) for x in tag_latitud_or]\n",
    "        datos.append(orientacion)\n",
    "\n",
    "    if tag_region != None:\n",
    "        datos.append(re.sub('\\xa0','',tag_region.text))\n",
    "\n",
    "    informacion_tabla.append(datos)\n",
    "\n",
    "sismos = pd.DataFrame(informacion_tabla)\n",
    "sismos.drop([5,6,7,8,9,10],axis=1,inplace=True)\n",
    "grados = sismos[2].apply(pd.Series)\n",
    "orientacion = sismos[3].apply(pd.Series)\n",
    "grados = grados.rename(columns={0:'Latitud Grados',1:'Longitud Grados'})\n",
    "orientacion = orientacion.rename(columns={0:'Latitud Orientacion',1:'Longitud Orientacion',2:'Magnitud'})\n",
    "sismos.drop([2,3],axis=1,inplace=True)\n",
    "sismos = sismos.merge(grados,left_index=True, right_index=True)\n",
    "sismos = sismos.merge(orientacion,left_index=True, right_index=True)\n",
    "sismos= sismos.rename(columns = {0:'Fecha',1:'Hora',4:'Region'})\n",
    "sismos = sismos[['Fecha','Hora','Latitud Grados','Latitud Orientacion','Longitud Grados','Longitud Orientacion','Magnitud','Region']]\n",
    "print(sismos[:20])"
   ]
  },
  {
   "cell_type": "markdown",
   "metadata": {},
   "source": [
    "#### Display the date, and title of upcoming hackathon events as a Pandas dataframe table"
   ]
  },
  {
   "cell_type": "code",
   "execution_count": 13,
   "metadata": {},
   "outputs": [],
   "source": [
    "# This is the url you will scrape in this exercise\n",
    "url ='https://hackevents.co/hackathons'"
   ]
  },
  {
   "cell_type": "code",
   "execution_count": 26,
   "metadata": {},
   "outputs": [
    {
     "name": "stdout",
     "output_type": "stream",
     "text": [
      "                           Titulo      Fecha\n",
      "0  Oerlikon Digital Hub Hackathon  11/8/2019\n"
     ]
    }
   ],
   "source": [
    "#your code\n",
    "html = requests.get(url).content\n",
    "soup = BeautifulSoup(html,features=\"html.parser\")\n",
    "tarjetas_eventos = soup.find_all(class_='card-body')\n",
    "\n",
    "datos=[]\n",
    "for tarjetas in tarjetas_eventos:\n",
    "    evento = tarjetas.text.strip().split(\"\\u2003\")\n",
    "    datos.append(evento)\n",
    "\n",
    "\n",
    "eventos = pd.DataFrame(datos)\n",
    "eventos = eventos.rename(columns={0:'Titulo',1:'Fecha'})\n",
    "print(eventos)"
   ]
  },
  {
   "cell_type": "markdown",
   "metadata": {},
   "source": [
    "#### Count number of tweets by a given Twitter account."
   ]
  },
  {
   "cell_type": "markdown",
   "metadata": {},
   "source": [
    "You will need to include a ***try/except block*** for account names not found. \n",
    "<br>***Hint:*** the program should count the number of tweets for any provided account"
   ]
  },
  {
   "cell_type": "code",
   "execution_count": null,
   "metadata": {},
   "outputs": [],
   "source": [
    "# This is the url you will scrape in this exercise \n",
    "# You will need to add the account credentials to this url\n",
    "url = 'https://twitter.com/'"
   ]
  },
  {
   "cell_type": "code",
   "execution_count": null,
   "metadata": {},
   "outputs": [],
   "source": [
    "#your code"
   ]
  },
  {
   "cell_type": "markdown",
   "metadata": {},
   "source": [
    "#### Number of followers of a given twitter account"
   ]
  },
  {
   "cell_type": "markdown",
   "metadata": {},
   "source": [
    "You will need to include a ***try/except block*** in case account/s name not found. \n",
    "<br>***Hint:*** the program should count the followers for any provided account"
   ]
  },
  {
   "cell_type": "code",
   "execution_count": null,
   "metadata": {},
   "outputs": [],
   "source": [
    "# This is the url you will scrape in this exercise \n",
    "# You will need to add the account credentials to this url\n",
    "url = 'https://twitter.com/'"
   ]
  },
  {
   "cell_type": "code",
   "execution_count": null,
   "metadata": {},
   "outputs": [],
   "source": [
    "#your code"
   ]
  },
  {
   "cell_type": "markdown",
   "metadata": {},
   "source": [
    "#### List all language names and number of related articles in the order they appear in wikipedia.org"
   ]
  },
  {
   "cell_type": "code",
   "execution_count": 27,
   "metadata": {},
   "outputs": [],
   "source": [
    "# This is the url you will scrape in this exercise\n",
    "url = 'https://www.wikipedia.org/'"
   ]
  },
  {
   "cell_type": "code",
   "execution_count": 28,
   "metadata": {},
   "outputs": [
    {
     "name": "stdout",
     "output_type": "stream",
     "text": [
      "['English', 'Español', '日本語', 'Deutsch', 'Русский', 'Français', 'Italiano', '中文', 'Português', 'Polski']\n"
     ]
    }
   ],
   "source": [
    "#your code\n",
    "html = requests.get(url).content\n",
    "soup = BeautifulSoup(html,features=\"html.parser\")\n",
    "tweets = soup.find_all(class_=\"link-box\")\n",
    "\n",
    "idiomas =[]\n",
    "for tw in tweets:\n",
    "    idiomas.append(tw.contents[1].text)\n",
    "print(idiomas)"
   ]
  },
  {
   "cell_type": "markdown",
   "metadata": {},
   "source": [
    "#### A list with the different kind of datasets available in data.gov.uk "
   ]
  },
  {
   "cell_type": "code",
   "execution_count": 30,
   "metadata": {},
   "outputs": [],
   "source": [
    "# This is the url you will scrape in this exercise\n",
    "url = 'https://data.gov.uk/'"
   ]
  },
  {
   "cell_type": "code",
   "execution_count": 31,
   "metadata": {},
   "outputs": [
    {
     "name": "stdout",
     "output_type": "stream",
     "text": [
      "['Business and economy', 'Crime and justice', 'Defence', 'Education', 'Environment', 'Government', 'Government spending', 'Health', 'Mapping', 'Society', 'Towns and cities', 'Transport']\n"
     ]
    }
   ],
   "source": [
    "#your code \n",
    "html = requests.get(url).content\n",
    "soup = BeautifulSoup(html,features=\"html.parser\")\n",
    "temas = soup.find_all('h2')\n",
    "\n",
    "lista = []\n",
    "for tema in temas:\n",
    "    lista.append(tema.text)\n",
    "print(lista)"
   ]
  },
  {
   "cell_type": "markdown",
   "metadata": {},
   "source": [
    "#### Top 10 languages by number of native speakers stored in a Pandas Dataframe"
   ]
  },
  {
   "cell_type": "code",
   "execution_count": 32,
   "metadata": {},
   "outputs": [],
   "source": [
    "# This is the url you will scrape in this exercise\n",
    "url = 'https://en.wikipedia.org/wiki/List_of_languages_by_number_of_native_speakers'"
   ]
  },
  {
   "cell_type": "code",
   "execution_count": 33,
   "metadata": {},
   "outputs": [
    {
     "name": "stdout",
     "output_type": "stream",
     "text": [
      "['Mandarin', 'Spanish', 'English', 'Hindi', 'Bengali', 'Portuguese', 'Russian', 'Japanese', 'Western Punjabi', 'Marathi']\n"
     ]
    }
   ],
   "source": [
    "#your code\n",
    "html = requests.get(url).content\n",
    "soup = BeautifulSoup(html,features=\"html.parser\")\n",
    "tabla = soup.find('tbody')\n",
    "filas = tabla.find_all(lambda tag: tag.name == 'tr')\n",
    "\n",
    "idiomas= []\n",
    "for fila in filas:\n",
    "    idiomas.append(fila.a.text)\n",
    "\n",
    "idiomas = idiomas[1:]\n",
    "print(idiomas[:10])"
   ]
  },
  {
   "cell_type": "markdown",
   "metadata": {},
   "source": [
    "### BONUS QUESTIONS"
   ]
  },
  {
   "cell_type": "markdown",
   "metadata": {},
   "source": [
    "#### Scrape a certain number of tweets of a given Twitter account."
   ]
  },
  {
   "cell_type": "code",
   "execution_count": null,
   "metadata": {},
   "outputs": [],
   "source": [
    "# This is the url you will scrape in this exercise \n",
    "# You will need to add the account credentials to this url\n",
    "url = 'https://twitter.com/'"
   ]
  },
  {
   "cell_type": "code",
   "execution_count": null,
   "metadata": {},
   "outputs": [],
   "source": [
    "# your code"
   ]
  },
  {
   "cell_type": "markdown",
   "metadata": {},
   "source": [
    "#### IMDB's Top 250 data (movie name, Initial release, director name and stars) as a pandas dataframe"
   ]
  },
  {
   "cell_type": "code",
   "execution_count": null,
   "metadata": {},
   "outputs": [],
   "source": [
    "# This is the url you will scrape in this exercise \n",
    "url = 'https://www.imdb.com/chart/top'"
   ]
  },
  {
   "cell_type": "code",
   "execution_count": null,
   "metadata": {},
   "outputs": [],
   "source": [
    "#your code"
   ]
  },
  {
   "cell_type": "markdown",
   "metadata": {},
   "source": [
    "#### Find the live weather report (temperature, wind speed, description and weather) of a given city."
   ]
  },
  {
   "cell_type": "code",
   "execution_count": null,
   "metadata": {},
   "outputs": [],
   "source": [
    "#https://openweathermap.org/current\n",
    "city = city=input('Enter the city:')\n",
    "url = 'http://api.openweathermap.org/data/2.5/weather?'+'q='+city+'&APPID=b35975e18dc93725acb092f7272cc6b8&units=metric'"
   ]
  },
  {
   "cell_type": "code",
   "execution_count": null,
   "metadata": {},
   "outputs": [],
   "source": [
    "# your code"
   ]
  },
  {
   "cell_type": "markdown",
   "metadata": {},
   "source": [
    "#### Book name, price and stock availability as a pandas dataframe."
   ]
  },
  {
   "cell_type": "code",
   "execution_count": null,
   "metadata": {},
   "outputs": [],
   "source": [
    "# This is the url you will scrape in this exercise. \n",
    "# It is a fictional bookstore created to be scraped. \n",
    "url = 'http://books.toscrape.com/'"
   ]
  },
  {
   "cell_type": "code",
   "execution_count": null,
   "metadata": {},
   "outputs": [],
   "source": [
    "#your code"
   ]
  }
 ],
 "metadata": {
  "kernelspec": {
   "display_name": "Python 3",
   "language": "python",
   "name": "python3"
  },
  "language_info": {
   "codemirror_mode": {
    "name": "ipython",
    "version": 3
   },
   "file_extension": ".py",
   "mimetype": "text/x-python",
   "name": "python",
   "nbconvert_exporter": "python",
   "pygments_lexer": "ipython3",
   "version": "3.7.0"
  }
 },
 "nbformat": 4,
 "nbformat_minor": 2
}
